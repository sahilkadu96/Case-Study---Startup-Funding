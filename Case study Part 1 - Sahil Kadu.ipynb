{
 "cells": [
  {
   "cell_type": "code",
   "execution_count": 2,
   "id": "7037c6b6",
   "metadata": {},
   "outputs": [],
   "source": [
    "import csv\n",
    "import numpy as np\n",
    "import pandas as pd\n",
    "import matplotlib.pyplot as plt\n",
    "\n"
   ]
  },
  {
   "cell_type": "markdown",
   "id": "806a0a3f",
   "metadata": {},
   "source": [
    "# Question 1"
   ]
  },
  {
   "cell_type": "code",
   "execution_count": 7,
   "id": "5133769b",
   "metadata": {},
   "outputs": [
    {
     "name": "stdout",
     "output_type": "stream",
     "text": [
      "2015 936\n",
      "2016 993\n",
      "2017 443\n"
     ]
    },
    {
     "data": {
      "image/png": "[encoded data removed]",
      "text/plain": [
       "<Figure size 432x288 with 1 Axes>"
      ]
     },
     "metadata": {
      "needs_background": "light"
     },
     "output_type": "display_data"
    }
   ],
   "source": [
    "import csv\n",
    "\n",
    "with open(r'G:\\Coding ninjas\\Data Science & Machine Learning\\Milestone 6\\startup_funding.csv', encoding='utf-8') as file_obj:\n",
    "    file_data=csv.DictReader(file_obj, skipinitialspace=True)\n",
    "    \n",
    "    year_openings={}\n",
    "    for row in file_data:\n",
    "        lis=row['Date'][-4:]\n",
    "        key=lis\n",
    "        if key in lis:\n",
    "            if key in year_openings:\n",
    "                year_openings[key]+=1\n",
    "            else:\n",
    "                year_openings[key]=1\n",
    "\n",
    "year_openings\n",
    "year_openings=dict(sorted(year_openings.items()))\n",
    "year_openings\n",
    "\n",
    "year=[]\n",
    "openings=[]\n",
    "for i in year_openings:\n",
    "    print(i, year_openings[i])\n",
    "    \n",
    "for i in year_openings:\n",
    "    year.append(i)\n",
    "    openings.append(year_openings[i])\n",
    "\n",
    "plt.plot(year, openings)\n",
    "plt.show()\n",
    "    \n",
    "    "
   ]
  },
  {
   "cell_type": "code",
   "execution_count": 25,
   "id": "9da57b94",
   "metadata": {},
   "outputs": [
    {
     "name": "stdout",
     "output_type": "stream",
     "text": [
      "2015 936\n",
      "2016 993\n",
      "2017 443\n"
     ]
    }
   ],
   "source": [
    "import pandas as pd\n",
    "data=pd.read_csv(r'G:\\Coding ninjas\\Data Science & Machine Learning\\Milestone 6\\startup_funding.csv')\n",
    "data['Year']=data['Date'].apply(lambda year:year[-4:])    \n",
    "ans=data['Year'].value_counts().sort_index()\n",
    "\n",
    "\n",
    "for i in range(ans.shape[0]):\n",
    "    print(ans.index[i], ans.values[i])\n",
    "\n",
    "     \n"
   ]
  },
  {
   "cell_type": "markdown",
   "id": "0fc57c04",
   "metadata": {},
   "source": [
    "# Question 2"
   ]
  },
  {
   "cell_type": "code",
   "execution_count": 39,
   "id": "56c44ffb",
   "metadata": {},
   "outputs": [
    {
     "name": "stdout",
     "output_type": "stream",
     "text": [
      "Bangalore 49.71\n",
      "New Delhi 16.63\n",
      "Mumbai 13.90\n",
      "Gurgaon 12.21\n",
      "Chennai 2.43\n",
      "Pune 2.16\n",
      "Hyderabad 1.15\n",
      "Noida 1.01\n",
      "Ahmedabad 0.58\n",
      "Jaipur 0.21\n"
     ]
    }
   ],
   "source": [
    "df=pd.read_csv(r'G:\\Coding ninjas\\Data Science & Machine Learning\\Milestone 6\\startup_funding.csv', encoding='utf-8')\n",
    "df['CityLocation'].fillna('unk' ,inplace=True)\n",
    "a=df[df['CityLocation']==\"unk\"].index\n",
    "df.drop(a, inplace=True)\n",
    "def seperateCity(city):\n",
    "    return city.split('/')[0].strip()\n",
    "df[\"CityLocation\"]=df[\"CityLocation\"].apply(seperateCity)\n",
    "df[\"CityLocation\"].replace (\"bangalore\" , \"Bangalore\" , inplace = True)\n",
    "df[\"CityLocation\"].replace (\"Delhi\" , \"New Delhi\" , inplace = True)\n",
    "\n",
    "df['AmountInUSD'] = df['AmountInUSD'].apply(lambda x: float(str(x).replace(',',\"\")))\n",
    "df['AmountInUSD'] = pd.to_numeric(df['AmountInUSD'])\n",
    "funding_amount = df.groupby('CityLocation')['AmountInUSD'].sum().sort_values(ascending=False)[0:10]\n",
    "\n",
    "city=funding_amount.index\n",
    "amount=funding_amount.values\n",
    "per_amount=np.true_divide(amount, amount.sum())*100\n",
    "for i in range(len(city)):\n",
    "    print(city[i], format(per_amount[i], '.2f'))\n",
    "    \n",
    "    "
   ]
  },
  {
   "cell_type": "markdown",
   "id": "d3d6a8e7",
   "metadata": {},
   "source": [
    "# Question 3"
   ]
  },
  {
   "cell_type": "code",
   "execution_count": 35,
   "id": "c092a5e3",
   "metadata": {},
   "outputs": [
    {
     "name": "stdout",
     "output_type": "stream",
     "text": [
      "['Private Equity' 'Seed Funding' 'Debt Funding' nan 'SeedFunding'\n",
      " 'PrivateEquity' 'Crowd funding' 'Crowd Funding']\n",
      "InvestmentType\n",
      "Private Equity    1.800708e+10\n",
      "Seed Funding      3.323457e+08\n",
      "Debt Funding      7.800000e+06\n",
      "Crowd Funding     1.557680e+05\n",
      "Name: AmountInUSD, dtype: float64\n",
      "Private Equity 98.15\n",
      "Seed Funding 1.81\n",
      "Debt Funding 0.04\n",
      "Crowd Funding 0.00\n"
     ]
    },
    {
     "data": {
      "image/png": "[encoded data removed]",
      "text/plain": [
       "<Figure size 432x288 with 1 Axes>"
      ]
     },
     "metadata": {},
     "output_type": "display_data"
    }
   ],
   "source": [
    "df=pd.read_csv(r'G:\\Coding ninjas\\Data Science & Machine Learning\\Milestone 6\\startup_funding.csv', encoding='utf-8')\n",
    "df['InvestmentType'].dropna(inplace=True)\n",
    "print(df['InvestmentType'].unique())\n",
    "df['InvestmentType'].replace('PrivateEquity', 'Private Equity', inplace=True)\n",
    "df['InvestmentType'].replace('SeedFunding', 'Seed Funding', inplace=True)\n",
    "df['InvestmentType'].replace('Crowd funding', 'Crowd Funding', inplace=True)\n",
    "df['InvestmentType'].unique()\n",
    "\n",
    "df['AmountInUSD'] = df['AmountInUSD'].apply(lambda x: float(str(x).replace(',', '')))\n",
    "df['AmountInUSD'] =pd.to_numeric(df['AmountInUSD'])\n",
    "investment_amount=df.groupby('InvestmentType')['AmountInUSD'].sum().sort_values(ascending=False)\n",
    "print(investment_amount)\n",
    "\n",
    "investment=investment_amount.index\n",
    "amount=investment_amount.values\n",
    "\n",
    "peramount=np.true_divide(amount, amount.sum())*100\n",
    "\n",
    "for i in  range(len(investment)):\n",
    "    print(investment[i], format(peramount[i], \".2f\"))\n",
    "    \n",
    "plt.pie(peramount, labels=investment)\n",
    "plt.show()\n",
    "\n",
    "a=df.groupby('InvestmentType')['AmountInUSD']\n"
   ]
  },
  {
   "cell_type": "markdown",
   "id": "f47d25af",
   "metadata": {},
   "source": [
    "# Question 4"
   ]
  },
  {
   "cell_type": "code",
   "execution_count": 2,
   "id": "fbee2f87",
   "metadata": {},
   "outputs": [
    {
     "name": "stdout",
     "output_type": "stream",
     "text": [
      "IndustryVertical\n",
      "Ecommerce                           4.281190e+09\n",
      "Consumer Internet                   3.797089e+09\n",
      "Technology                          1.103594e+09\n",
      "Online Marketplace                  7.000000e+08\n",
      "E-Commerce & M-Commerce platform    6.800000e+08\n",
      "Name: AmountInUSD, dtype: float64\n",
      "Ecommerce 40.53\n",
      "Consumer Internet 35.95\n",
      "Technology 10.45\n",
      "Online Marketplace 6.63\n",
      "E-Commerce & M-Commerce platform 6.44\n"
     ]
    }
   ],
   "source": [
    "df=pd.read_csv(r'G:\\Coding ninjas\\Data Science & Machine Learning\\Milestone 6\\startup_funding.csv', encoding='utf-8')\n",
    "df['IndustryVertical'].unique()\n",
    "df['IndustryVertical'].replace('eCommerce', 'Ecommerce', inplace=True)\n",
    "df['IndustryVertical'].replace('ECommerce', 'Ecommerce', inplace=True)\n",
    "df['IndustryVertical'].replace('ecommerce', 'Ecommerce', inplace=True)\n",
    "\n",
    "df['AmountInUSD'] = df['AmountInUSD'].apply(lambda x: float(str(x).replace(\",\", \"\")))\n",
    "df['AmountInUSD'] = pd.to_numeric(df['AmountInUSD'])\n",
    "\n",
    "industry_funding = df.groupby('IndustryVertical')['AmountInUSD'].sum().sort_values(ascending=False)[0:5]\n",
    "print(industry_funding)\n",
    "\n",
    "industry=industry_funding.index\n",
    "amount=industry_funding.values\n",
    "\n",
    "peramount = np.true_divide(amount, amount.sum())*100\n",
    "\n",
    "for i in range(len(industry)):\n",
    "    print(industry[i], format(peramount[i], \".2f\"))\n"
   ]
  },
  {
   "cell_type": "markdown",
   "id": "5eedbfe8",
   "metadata": {},
   "source": [
    "# Question 5"
   ]
  },
  {
   "cell_type": "code",
   "execution_count": 25,
   "id": "c1aa73e5",
   "metadata": {
    "scrolled": true
   },
   "outputs": [
    {
     "name": "stdout",
     "output_type": "stream",
     "text": [
      "StartupName\n",
      "Paytm       2.340000e+09\n",
      "Flipkart    2.259700e+09\n",
      "Ola         1.899500e+09\n",
      "Snapdeal    7.000000e+08\n",
      "Oyo         4.500000e+08\n",
      "Name: AmountInUSD, dtype: float64\n",
      "Paytm\n",
      "Flipkart\n",
      "Ola\n",
      "Snapdeal\n",
      "Oyo\n"
     ]
    }
   ],
   "source": [
    "df=pd.read_csv(r'G:\\Coding ninjas\\Data Science & Machine Learning\\Milestone 6\\startup_funding.csv', encoding='utf-8')\n",
    "\n",
    "df['StartupName'].replace('Flipkart.com', 'Flipkart', inplace=True)\n",
    "df['StartupName'].replace('Ola Cabs', 'Ola', inplace=True)\n",
    "df['StartupName'].replace('Olacabs', 'Ola', inplace=True)\n",
    "df['StartupName'].replace('Oyo Rooms', 'Oyo', inplace=True)\n",
    "df['StartupName'].replace('Paytm Marketplace', 'Paytm', inplace=True)\n",
    "\n",
    "df['AmountInUSD'] = df['AmountInUSD'].apply(lambda x: float(str(x).replace(\",\", \"\")))\n",
    "df['AmountInUSD'] = pd.to_numeric(df['AmountInUSD'])\n",
    "\n",
    "startup_funding = df.groupby('StartupName')['AmountInUSD'].sum().sort_values(ascending=False)[0:5]\n",
    "print(startup_funding)\n",
    "\n",
    "startup=startup_funding.index\n",
    "amount=industry_funding.values\n",
    "\n",
    "#peramount = np.true_divide(amount, amount.sum())*100\n",
    "\n",
    "for i in range(len(startup)):\n",
    "    print(startup[i])"
   ]
  },
  {
   "cell_type": "markdown",
   "id": "1933e22f",
   "metadata": {},
   "source": [
    "# Question 7"
   ]
  },
  {
   "cell_type": "code",
   "execution_count": 11,
   "id": "03855175",
   "metadata": {},
   "outputs": [
    {
     "data": {
      "text/plain": [
       "Ola          9\n",
       "Swiggy       7\n",
       "UrbanClap    6\n",
       "Paytm        6\n",
       "Oyo          6\n",
       "Name: StartupName, dtype: int64"
      ]
     },
     "execution_count": 11,
     "metadata": {},
     "output_type": "execute_result"
    }
   ],
   "source": [
    "df=pd.read_csv(r'G:\\Coding ninjas\\Data Science & Machine Learning\\Milestone 6\\startup_funding.csv', encoding='utf-8')\n",
    "\n",
    "df['StartupName'].replace('Flipkart.com', 'Flipkart', inplace=True)\n",
    "df['StartupName'].replace('Ola Cabs', 'Ola', inplace=True)\n",
    "df['StartupName'].replace('Olacabs', 'Ola', inplace=True)\n",
    "df['StartupName'].replace('Oyo Rooms', 'Oyo', inplace=True)\n",
    "df['StartupName'].replace('OyoRooms', 'Oyo', inplace=True)\n",
    "df['StartupName'].replace('Oyorooms', 'Oyo', inplace=True)\n",
    "df['StartupName'].replace('OYO Rooms', 'Oyo', inplace=True)\n",
    "df['StartupName'].replace('Paytm Marketplace', 'Paytm', inplace=True)\n",
    "un=df['StartupName'].unique()\n",
    "\n",
    "\n",
    "ans=df['StartupName'].value_counts().sort_values(ascending=False)[0:5]\n",
    "ans"
   ]
  },
  {
   "cell_type": "markdown",
   "id": "b43767f9",
   "metadata": {},
   "source": [
    "# Question 8"
   ]
  },
  {
   "cell_type": "code",
   "execution_count": 11,
   "id": "c6e49da2",
   "metadata": {},
   "outputs": [
    {
     "name": "stdout",
     "output_type": "stream",
     "text": [
      "                       0\n",
      "Sequoia Capital       64\n",
      "Accel Partners        53\n",
      "Kalaari Capital       44\n",
      "SAIF Partners         41\n",
      "Indian Angel Network  40\n",
      "Sequoia Capital 64\n"
     ]
    }
   ],
   "source": [
    "df=pd.read_csv(r'G:\\Coding ninjas\\Data Science & Machine Learning\\Milestone 6\\startup_funding.csv', encoding='utf-8')\n",
    "\n",
    "df['InvestorsName'].fillna('unk' ,inplace=True)\n",
    "a=df[df['InvestorsName']==\"unk\"].index\n",
    "df.drop(a, inplace=True)\n",
    "\n",
    "def createDictionary(arr):\n",
    "    d={}\n",
    "    for i in arr:\n",
    "        if ',' not in i:\n",
    "                d[i]=d.get(i,0)+1\n",
    "        else:\n",
    "            string=i.strip().split(',')\n",
    "            for j in string:\n",
    "                d[j.strip()] = d.get(j.strip(), 0)+1\n",
    "    return d  \n",
    "\n",
    "d=createDictionary(df['InvestorsName'])\n",
    "d=dict(sorted(d.items(), key=lambda x:x[1], reverse=True))\n",
    "d\n",
    "datafr = pd.DataFrame(list(d.values()), list(d.keys()))\n",
    "ans=datafr[0:5]\n",
    "print(ans)\n",
    "print(ans.index[0], ans.values[0][0])\n",
    "    \n",
    "                \n",
    "\n",
    "            \n",
    "        \n",
    "            \n",
    "\n"
   ]
  },
  {
   "cell_type": "code",
   "execution_count": null,
   "id": "68a76b92",
   "metadata": {},
   "outputs": [],
   "source": []
  }
 ],
 "metadata": {
  "kernelspec": {
   "display_name": "Python 3 (ipykernel)",
   "language": "python",
   "name": "python3"
  },
  "language_info": {
   "codemirror_mode": {
    "name": "ipython",
    "version": 3
   },
   "file_extension": ".py",
   "mimetype": "text/x-python",
   "name": "python",
   "nbconvert_exporter": "python",
   "pygments_lexer": "ipython3",
   "version": "3.9.7"
  }
 },
 "nbformat": 4,
 "nbformat_minor": 5
}
